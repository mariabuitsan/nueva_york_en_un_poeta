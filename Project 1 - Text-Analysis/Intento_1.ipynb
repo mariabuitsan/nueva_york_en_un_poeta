{
 "cells": [
  {
   "cell_type": "markdown",
   "id": "6858e3ab",
   "metadata": {},
   "source": [
    "# Intento 1 \n",
    "#### Experimentando con listas "
   ]
  },
  {
   "cell_type": "code",
   "execution_count": 1,
   "id": "cc812b74",
   "metadata": {},
   "outputs": [],
   "source": [
    "poem1 = \"VUELTA DE PASEO. Asesinado por el cielo, entre las formas que van hacia la sierpe y las formas que buscan el cristal, dejaré crecer mis cabellos. Con el árbol de muñones que no canta y el niño con el blanco rostro de huevo.Con los animalitos de cabeza rota y el agua harapienta de los pies secos.Con todo lo que tiene cansancio sordomudo y mariposa ahogada en el tintero. Tropezando con mi rostro distinto de cada día.¡Asesinado por el cielo!\""
   ]
  },
  {
   "cell_type": "code",
   "execution_count": 2,
   "id": "ac526a20",
   "metadata": {},
   "outputs": [
    {
     "name": "stdout",
     "output_type": "stream",
     "text": [
      "VUELTA DE PASEO. Asesinado por el cielo, entre las formas que van hacia la sierpe y las formas que buscan el cristal, dejaré crecer mis cabellos. Con el árbol de muñones que no canta y el niño con el blanco rostro de huevo.Con los animalitos de cabeza rota y el agua harapienta de los pies secos.Con todo lo que tiene cansancio sordomudo y mariposa ahogada en el tintero. Tropezando con mi rostro distinto de cada día.¡Asesinado por el cielo!\n"
     ]
    }
   ],
   "source": [
    "print (poem1)"
   ]
  },
  {
   "cell_type": "code",
   "execution_count": 3,
   "id": "2ddc38ff",
   "metadata": {},
   "outputs": [
    {
     "data": {
      "text/plain": [
       "442"
      ]
     },
     "execution_count": 3,
     "metadata": {},
     "output_type": "execute_result"
    }
   ],
   "source": [
    "len(poem1)"
   ]
  },
  {
   "cell_type": "code",
   "execution_count": 4,
   "id": "8c6470a8",
   "metadata": {},
   "outputs": [
    {
     "data": {
      "text/plain": [
       "str"
      ]
     },
     "execution_count": 4,
     "metadata": {},
     "output_type": "execute_result"
    }
   ],
   "source": [
    "type(poem1)"
   ]
  },
  {
   "cell_type": "code",
   "execution_count": 6,
   "id": "fe26b17a",
   "metadata": {},
   "outputs": [],
   "source": [
    "import nltk \n"
   ]
  },
  {
   "cell_type": "code",
   "execution_count": 15,
   "id": "7b8b10b7",
   "metadata": {},
   "outputs": [],
   "source": [
    "def clean (poem1):\n",
    "    tokens = nltk.word_tokenize(poem1)\n",
    "    return poem1"
   ]
  },
  {
   "cell_type": "code",
   "execution_count": 16,
   "id": "21ed1446",
   "metadata": {},
   "outputs": [
    {
     "data": {
      "text/plain": [
       "'VUELTA DE PASEO. Asesinado por el cielo, entre las formas que van hacia la sierpe y las formas que buscan el cristal, dejaré crecer mis cabellos. Con el árbol de muñones que no canta y el niño con el blanco rostro de huevo.Con los animalitos de cabeza rota y el agua harapienta de los pies secos.Con todo lo que tiene cansancio sordomudo y mariposa ahogada en el tintero. Tropezando con mi rostro distinto de cada día.¡Asesinado por el cielo!'"
      ]
     },
     "execution_count": 16,
     "metadata": {},
     "output_type": "execute_result"
    }
   ],
   "source": [
    "clean(poem1)"
   ]
  },
  {
   "cell_type": "code",
   "execution_count": null,
   "id": "c7c12cbd",
   "metadata": {},
   "outputs": [],
   "source": []
  }
 ],
 "metadata": {
  "kernelspec": {
   "display_name": "Python 3 (ipykernel)",
   "language": "python",
   "name": "python3"
  },
  "language_info": {
   "codemirror_mode": {
    "name": "ipython",
    "version": 3
   },
   "file_extension": ".py",
   "mimetype": "text/x-python",
   "name": "python",
   "nbconvert_exporter": "python",
   "pygments_lexer": "ipython3",
   "version": "3.9.13"
  }
 },
 "nbformat": 4,
 "nbformat_minor": 5
}
